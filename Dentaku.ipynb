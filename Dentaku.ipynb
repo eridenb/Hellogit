{
 "cells": [
  {
   "cell_type": "code",
   "execution_count": 3,
   "metadata": {},
   "outputs": [],
   "source": [
    "#Tkinterのライブラリを取り込む\n",
    "import tkinter as tk\n",
    "#import sys\n",
    "\n",
    "#ウィンドウを作成\n",
    "win = tk.Tk()\n",
    "win.title(\"Hello,World!\")\n",
    "win.geometry(\"400x300\")\n",
    "\n",
    "\n",
    "#ラベル\n",
    "lb = tk.Label(text=u'test')\n",
    "#lb.pack()\n",
    "#任意の場所に配置x=,z=\n",
    "lb.place(x=100,y=150)\n",
    "\n",
    "#1行入力ボックスEntry、大きさwidth\n",
    "editBox = tk.Entry(width=50)\n",
    "#最初から文字を入力して置く\n",
    "#editBox.insert(tk.END,\"文字を入力\")\n",
    "editBox.pack()\n",
    "#valueにEntryの中身をが入る\n",
    "value = editBox.get()\n",
    "#中身を削除\n",
    "#editBox.delete(0,tk.END)\n",
    "\n",
    "#ボタン\n",
    "bt = tk.Button(text=u'ボタン',width=10)\n",
    "bt.bind(\"<Button-1>\",DeleteEntryValue)\n",
    "bt.pack()\n",
    "\n",
    "\n",
    "#ウィンドウを動かす\n",
    "win.mainloop()\n",
    "\n"
   ]
  },
  {
   "cell_type": "code",
   "execution_count": null,
   "metadata": {},
   "outputs": [],
   "source": []
  }
 ],
 "metadata": {
  "kernelspec": {
   "display_name": "Python 3",
   "language": "python",
   "name": "python3"
  },
  "language_info": {
   "codemirror_mode": {
    "name": "ipython",
    "version": 3
   },
   "file_extension": ".py",
   "mimetype": "text/x-python",
   "name": "python",
   "nbconvert_exporter": "python",
   "pygments_lexer": "ipython3",
   "version": "3.7.6"
  }
 },
 "nbformat": 4,
 "nbformat_minor": 4
}
